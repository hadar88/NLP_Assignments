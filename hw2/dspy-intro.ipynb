{
 "cells": [
  {
   "cell_type": "markdown",
   "id": "b9fc9930",
   "metadata": {},
   "source": [
    "# DSPy Tutorials\n",
    "\n",
    "From dspy.ai - these tutorials demonstrate how to build DSPy programs to perform various tasks."
   ]
  },
  {
   "cell_type": "code",
   "execution_count": 3,
   "id": "e59c5a33",
   "metadata": {},
   "outputs": [],
   "source": [
    "import os\n",
    "import dspy\n",
    "\n",
    "from dotenv import load_dotenv\n",
    "load_dotenv(\"grok_key.ini\") \n",
    "\n",
    "lm = dspy.LM('xai/grok-3-mini', api_key=os.environ['XAI_API_KEY'])\n",
    "# lm = dspy.LM('ollama_chat/devstral', api_base='http://localhost:11434', api_key='')\n",
    "dspy.configure(lm=lm)"
   ]
  },
  {
   "cell_type": "code",
   "execution_count": 4,
   "id": "1c7ccb09",
   "metadata": {},
   "outputs": [
    {
     "data": {
      "text/plain": [
       "Prediction(\n",
       "    reasoning='To determine the probability that the sum of two tossed dice equals two, first identify the total possible outcomes. Each die has 6 faces, so for two dice, there are 6 * 6 = 36 possible outcomes. For the sum to be exactly 2, both dice must show a 1 (since 1 + 1 = 2). There is only 1 favorable outcome. Therefore, the probability is the number of favorable outcomes divided by the total outcomes: 1 / 36, which equals approximately 0.027777777777777776.',\n",
       "    answer=0.027777777777777776\n",
       ")"
      ]
     },
     "execution_count": 4,
     "metadata": {},
     "output_type": "execute_result"
    }
   ],
   "source": [
    "# Example 1: Simple Question Answering\n",
    "math = dspy.ChainOfThought(\"question -> answer: float\")\n",
    "math(question=\"Two dice are tossed. What is the probability that the sum equals two?\")\n"
   ]
  },
  {
   "cell_type": "code",
   "execution_count": 5,
   "id": "e238ab18",
   "metadata": {},
   "outputs": [
    {
     "data": {
      "text/plain": [
       "Prediction(\n",
       "    reasoning='The question asks for the name of the castle inherited by David Gregory. Reviewing the provided context, the first paragraph specifically mentions David Gregory and states that he inherited Kinnairdy Castle in 1664. The other paragraphs discuss different individuals (Gregory Tarchaneiotes and Gregory of Gaeta), which are unrelated to this query. Therefore, the relevant information is directly from the first paragraph.',\n",
       "    response='Kinnairdy Castle'\n",
       ")"
      ]
     },
     "execution_count": 5,
     "metadata": {},
     "output_type": "execute_result"
    }
   ],
   "source": [
    "# Example 2: RAG with Retrieval\n",
    "def search_wikipedia(query: str) -> list[str]:\n",
    "    results = dspy.ColBERTv2(url='http://20.102.90.50:2017/wiki17_abstracts')(query, k=3)\n",
    "    return [x['text'] for x in results]\n",
    "\n",
    "rag = dspy.ChainOfThought('context, question -> response')\n",
    "\n",
    "question = \"What's the name of the castle that David Gregory inherited?\"\n",
    "rag(context=search_wikipedia(question), question=question)"
   ]
  },
  {
   "cell_type": "code",
   "execution_count": 6,
   "id": "5c6fba3c",
   "metadata": {},
   "outputs": [
    {
     "data": {
      "text/plain": [
       "Prediction(\n",
       "    sentiment='positive',\n",
       "    confidence=0.85\n",
       ")"
      ]
     },
     "execution_count": 6,
     "metadata": {},
     "output_type": "execute_result"
    }
   ],
   "source": [
    "# Example 3: Classification\n",
    "from typing import Literal\n",
    "\n",
    "class Classify(dspy.Signature):\n",
    "    \"\"\"Classify sentiment of a given sentence.\"\"\"\n",
    "\n",
    "    sentence: str = dspy.InputField()\n",
    "    sentiment: Literal['positive', 'negative', 'neutral'] = dspy.OutputField()\n",
    "    confidence: float = dspy.OutputField()\n",
    "\n",
    "classify = dspy.Predict(Classify)\n",
    "classify(sentence=\"This book was super fun to read, though not the last chapter.\")"
   ]
  },
  {
   "cell_type": "code",
   "execution_count": 7,
   "id": "b81e6008",
   "metadata": {},
   "outputs": [
    {
     "name": "stdout",
     "output_type": "stream",
     "text": [
      "Apple Announces iPhone 14\n",
      "['Apple Inc.', 'iPhone 14', 'Tim Cook']\n",
      "[{'name': 'Apple Inc.', 'type': 'Organization'}, {'name': 'iPhone 14', 'type': 'Product'}, {'name': 'Tim Cook', 'type': 'Person'}]\n"
     ]
    }
   ],
   "source": [
    "# Example 4: Information Extraction\n",
    "class ExtractInfo(dspy.Signature):\n",
    "    \"\"\"Extract structured information from text.\"\"\"\n",
    "\n",
    "    text: str = dspy.InputField()\n",
    "    title: str = dspy.OutputField()\n",
    "    headings: list[str] = dspy.OutputField()\n",
    "    entities: list[dict[str, str]] = dspy.OutputField(desc=\"a list of entities and their metadata\")\n",
    "\n",
    "module = dspy.Predict(ExtractInfo)\n",
    "\n",
    "text = \"Apple Inc. announced its latest iPhone 14 today.\" \\\n",
    "    \"The CEO, Tim Cook, highlighted its new features in a press release.\"\n",
    "response = module(text=text)\n",
    "\n",
    "print(response.title)\n",
    "print(response.headings)\n",
    "print(response.entities)"
   ]
  },
  {
   "cell_type": "code",
   "execution_count": 8,
   "id": "eec4dd03",
   "metadata": {},
   "outputs": [
    {
     "name": "stdout",
     "output_type": "stream",
     "text": [
      "5761.33\n"
     ]
    }
   ],
   "source": [
    "# Example 5: Agents\n",
    "def evaluate_math(expression: str):\n",
    "    return dspy.PythonInterpreter({}).execute(expression)\n",
    "\n",
    "def search_wikipedia(query: str):\n",
    "    results = dspy.ColBERTv2(url='http://20.102.90.50:2017/wiki17_abstracts')(query, k=3)\n",
    "    return [x['text'] for x in results]\n",
    "\n",
    "react = dspy.ReAct(\"question -> answer: float\", tools=[evaluate_math, search_wikipedia])\n",
    "\n",
    "pred = react(question=\"What is 9362158 divided by the year of birth of David Gregory of Kinnairdy castle?\")\n",
    "print(pred.answer)"
   ]
  },
  {
   "cell_type": "code",
   "execution_count": 9,
   "id": "50ef1a43",
   "metadata": {},
   "outputs": [],
   "source": [
    "# Example 6: Multi-stage pipeline\n",
    "class Outline(dspy.Signature):\n",
    "    \"\"\"Outline a thorough overview of a topic.\"\"\"\n",
    "\n",
    "    topic: str = dspy.InputField()\n",
    "    title: str = dspy.OutputField()\n",
    "    sections: list[str] = dspy.OutputField()\n",
    "    section_subheadings: dict[str, list[str]] = dspy.OutputField(desc=\"mapping from section headings to subheadings\")\n",
    "\n",
    "class DraftSection(dspy.Signature):\n",
    "    \"\"\"Draft a top-level section of an article.\"\"\"\n",
    "\n",
    "    topic: str = dspy.InputField()\n",
    "    section_heading: str = dspy.InputField()\n",
    "    section_subheadings: list[str] = dspy.InputField()\n",
    "    content: str = dspy.OutputField(desc=\"markdown-formatted section\")\n",
    "\n",
    "class DraftArticle(dspy.Module):\n",
    "    def __init__(self):\n",
    "        self.build_outline = dspy.ChainOfThought(Outline)\n",
    "        self.draft_section = dspy.ChainOfThought(DraftSection)\n",
    "\n",
    "    def forward(self, topic):\n",
    "        outline = self.build_outline(topic=topic)\n",
    "        sections = []\n",
    "        for heading, subheadings in outline.section_subheadings.items():\n",
    "            section, subheadings = f\"## {heading}\", [f\"### {subheading}\" for subheading in subheadings]\n",
    "            section = self.draft_section(topic=outline.title, section_heading=section, section_subheadings=subheadings)\n",
    "            sections.append(section.content)\n",
    "        return dspy.Prediction(title=outline.title, sections=sections)\n",
    "\n",
    "draft_article = DraftArticle()\n",
    "article = draft_article(topic=\"World Cup 2002\")"
   ]
  },
  {
   "cell_type": "code",
   "execution_count": 10,
   "id": "ce448f79",
   "metadata": {},
   "outputs": [
    {
     "data": {
      "text/markdown": [
       "## Introduction\n",
       "\n",
       "The 2002 FIFA World Cup was a pivotal moment in the history of international football, marking the first time the tournament was hosted in Asia and co-organized by Japan and South Korea. Held from May 31 to June 30, 2002, it featured 32 teams competing for global glory, captivating audiences worldwide with thrilling matches, cultural exchanges, and unexpected outcomes. This event not only showcased the sport's universal appeal but also highlighted advancements in technology, stadium infrastructure, and fan engagement, setting the stage for future tournaments.\n",
       "\n",
       "### Historical Context\n",
       "\n",
       "The FIFA World Cup traces its roots back to 1930, when the first edition was held in Uruguay, and has since grown into the most-watched sporting event on the planet. By 2002, the tournament had expanded significantly, with the 1998 edition in France drawing record viewership. The 2002 World Cup was particularly noteworthy as it broke new ground by being hosted in Asia, fulfilling FIFA's goal of global inclusivity. This shift came after decades of European and South American dominance, reflecting the sport's rising popularity in other regions and addressing geopolitical efforts to promote unity through sports.\n",
       "\n",
       "### Tournament Format and Significance\n",
       "\n",
       "The 2002 World Cup followed a familiar format: 32 teams were divided into eight groups of four, with the top two teams from each group advancing to a single-elimination knockout stage. This structure, which included group-stage matches, round of 16, quarterfinals, semifinals, and the final, ensured high-stakes drama and strategic gameplay. The tournament's significance extended beyond the pitch; it was a symbol of international cooperation, as co-hosts Japan and South Korea demonstrated successful collaboration despite historical tensions. Additionally, upsets like South Korea's semi-final run and the emergence of stars like Ronaldo underscored the event's role in inspiring new generations and elevating football's global stature."
      ],
      "text/plain": [
       "<IPython.core.display.Markdown object>"
      ]
     },
     "metadata": {},
     "output_type": "display_data"
    },
    {
     "data": {
      "text/markdown": [
       "## Host Countries and Venues\n",
       "\n",
       "### Host Nations Overview\n",
       "The 2002 FIFA World Cup marked a historic milestone as the first tournament co-hosted by two nations: Japan and South Korea. This decision, announced in 1996, was driven by FIFA's aim to promote football across Asia and foster regional unity. Japan, with its advanced infrastructure and growing football enthusiasm, hosted 10 matches, including the opening game in Sapporo. South Korea, equally enthusiastic, managed 10 matches as well, with the final held in Yokohama, Japan. The co-hosting arrangement highlighted cultural exchanges, with matches spread across both countries to showcase their distinct heritages. This setup not only boosted tourism and economic growth in both nations but also symbolized peace and cooperation on the Korean Peninsula, despite ongoing geopolitical tensions.\n",
       "\n",
       "### Key Stadiums and Logistics\n",
       "The 2002 World Cup featured 20 state-of-the-art stadiums across Japan and South Korea, each designed to accommodate large crowds and enhance the spectator experience. In Japan, iconic venues included the Yokohama International Stadium (site of the final match) and the Saitama Stadium, known for its modern architecture and capacity of over 60,000. South Korea's highlights were the Seoul World Cup Stadium and the Daegu Stadium, which hosted key group-stage and knockout games. Logistics were meticulously planned to handle the influx of fans, with high-speed trains and efficient public transport systems connecting venues. FIFA coordinated seamless operations, including security measures and bilingual signage, to ensure smooth travel between host cities. This infrastructure not only facilitated the tournament's success but also left a lasting legacy, with many stadiums continuing to host major events today."
      ],
      "text/plain": [
       "<IPython.core.display.Markdown object>"
      ]
     },
     "metadata": {},
     "output_type": "display_data"
    },
    {
     "data": {
      "text/markdown": [
       "## Participating Teams and Qualification\n",
       "\n",
       "### Qualified Teams by Continent\n",
       "\n",
       "The 2002 FIFA World Cup, co-hosted by South Korea and Japan, featured 32 qualified teams from across the globe, determined through continental qualification processes. Teams were allocated based on their respective football confederations, ensuring representation from various regions.\n",
       "\n",
       "- **UEFA (Europe)**: With 15 slots, Europe had the largest contingent. Notable qualifiers included powerhouses like Germany, Italy, England, Spain, and France (the defending champions). Other teams from this region were Portugal, Sweden, Denmark, Turkey, Poland, Belgium, Russia, Slovenia, and Croatia. The European qualification was highly competitive, with group stages and playoffs eliminating many strong sides.\n",
       "\n",
       "- **CONMEBOL (South America)**: South America secured 5 spots, dominated by traditional giants. Brazil, Argentina, Ecuador, Paraguay, and Uruguay qualified. Brazil's qualification was straightforward, but Ecuador's emergence as a first-time qualifier was a significant highlight.\n",
       "\n",
       "- **CAF (Africa)**: Africa had 5 representatives: Senegal, South Africa, Tunisia, Cameroon, and Nigeria. This was a breakthrough for African football, with Senegal making their debut and eventually reaching the quarterfinals.\n",
       "\n",
       "- **AFC (Asia)**: As co-hosts, South Korea and Japan automatically qualified, taking 2 spots. Saudi Arabia and China also joined, making a total of 4 teams from Asia.\n",
       "\n",
       "- **CONCACAF (North America, Central America, and the Caribbean)**: This region contributed 3 teams: Mexico, United States, and Costa Rica. The US team's qualification was marked by their strong performance in the regional tournament.\n",
       "\n",
       "- **OFC (Oceania)**: Australia qualified but was later eliminated in an intercontinental playoff, with no team from Oceania ultimately participating.\n",
       "\n",
       "- **CONMEBOL vs. OFC Playoff**: For the final spot, Uruguay from South America defeated Australia in a playoff, securing their place.\n",
       "\n",
       "### Qualification Process and Highlights\n",
       "\n",
       "The qualification process for the 2002 FIFA World Cup began in 1999 and involved over 190 teams competing across their confederations. Each confederation conducted its own tournaments, typically consisting of group stages, knockout rounds, and sometimes playoffs, to determine the qualifiers. The process emphasized regional competition while allowing for global representation.\n",
       "\n",
       "Key highlights included:\n",
       "- **Surprising Qualifiers**: Senegal's qualification as first-timers from Africa was a major story, achieved through a dramatic campaign led by coach Bruno Metsu. Similarly, Turkey's strong performance in European qualifiers set the stage for their impressive tournament run.\n",
       "- **Upsets and Exclusions**: High-profile teams like France (the reigning champions) had to fight hard, but others like Scotland and Wales failed to qualify, adding drama. In Asia, China's qualification was historic as their first-ever World Cup appearance.\n",
       "- **Playoff Drama**: The intercontinental playoff between Uruguay and Australia was a tense affair, with Uruguay winning 3-2 on aggregate, showcasing the high stakes of these matches.\n",
       "- **Overall Structure**: FIFA's allocation ensured fairness, with slots distributed as follows: 14 for UEFA, 5 for CONMEBOL, 5 for CAF, 4 for AFC (including hosts), 3 for CONCACAF, and 1 via playoff. This process not only selected the teams but also built excitement leading up to the event, highlighting emerging talents and underdog stories.\n",
       "\n",
       "This section provides a balanced overview, focusing on facts while maintaining engagement for readers interested in the tournament's buildup."
      ],
      "text/plain": [
       "<IPython.core.display.Markdown object>"
      ]
     },
     "metadata": {},
     "output_type": "display_data"
    },
    {
     "data": {
      "text/markdown": [
       "## Group Stage\n",
       "\n",
       "The group stage of the 2002 FIFA World Cup, held in South Korea and Japan from May 31 to June 14, featured 32 teams divided into eight groups (A through H). Each group consisted of four teams competing in a round-robin format, with the top two teams from each group advancing to the knockout stage. This phase was marked by surprising results, underdog victories, and high-stakes drama that set the tone for the rest of the tournament.\n",
       "\n",
       "### Group Compositions\n",
       "\n",
       "The groups were carefully balanced to include a mix of traditional powerhouses, emerging nations, and host countries. Here's a breakdown of the teams in each group:\n",
       "\n",
       "- **Group A**: Senegal, Uruguay, Denmark, France  \n",
       "- **Group B**: Spain, Slovenia, South Africa, Paraguay  \n",
       "- **Group C**: Brazil, Turkey, China PR, Costa Rica  \n",
       "- **Group D**: South Korea, Poland, United States, Portugal  \n",
       "- **Group E**: Germany, Saudi Arabia, Republic of Ireland, Cameroon  \n",
       "- **Group F**: Argentina, Nigeria, England, Sweden  \n",
       "- **Group G**: Italy, Ecuador, Croatia, Mexico  \n",
       "- **Group H**: Japan, Belgium, Russia, Tunisia  \n",
       "\n",
       "This composition led to intriguing matchups, with defending champions France in Group A facing early challenges, and host nations South Korea and Japan generating significant excitement.\n",
       "\n",
       "### Notable Matches and Results\n",
       "\n",
       "The group stage delivered several memorable moments, including upsets and standout performances. One of the biggest shocks was Senegal's 1-0 victory over France in the opening match, marking a stunning upset against the reigning world champions and ultimately leading to France's group-stage exit. Another highlight was South Korea's 2-0 win over Poland, boosting the hosts' campaign and energizing their fans.\n",
       "\n",
       "Key results included:\n",
       "- Brazil's dominant 2-0 win over China PR in Group C, showcasing their attacking prowess with goals from Ronaldo and Rivaldo.\n",
       "- The United States' 3-2 comeback victory against Portugal in Group D, a thrilling match that saw the U.S. advance to the knockout stage.\n",
       "- England's 1-0 win over Argentina in Group F, a revenge match from the 1998 World Cup, secured by a David Beckham penalty.\n",
       "\n",
       "Overall, the group stage saw 15 goals in a single day of matches on June 12, and teams like Turkey and South Korea emerged as dark horses, setting up exciting knockout encounters."
      ],
      "text/plain": [
       "<IPython.core.display.Markdown object>"
      ]
     },
     "metadata": {},
     "output_type": "display_data"
    },
    {
     "data": {
      "text/markdown": [
       "## Knockout Stage\n",
       "\n",
       "The knockout stage of the 2002 FIFA World Cup, held in South Korea and Japan, marked the intense elimination phase where 16 teams competed for glory after the group stage. This stage began on June 15, 2002, and featured high-stakes matches that showcased dramatic upsets, stellar performances, and unforgettable moments. Spanning from the Round of 16 to the final, it highlighted the tournament's co-hosts' surprising success and established powerhouses' dominance. Below is a breakdown of the key phases.\n",
       "\n",
       "### Round of 16 Summary\n",
       "\n",
       "The Round of 16 kicked off the knockout excitement, with eight matches determining which teams advanced. This round saw a mix of expected victories and early shocks, setting the tone for the rest of the tournament.\n",
       "\n",
       "- **Germany 1-0 Paraguay**: Germany edged out Paraguay in a tightly contested match, thanks to a goal from Oliver Neuville, demonstrating their defensive resilience.\n",
       "- **United States 2-3 Germany**: The US put up a valiant fight but fell to Germany in extra time, with goals from Brian McBride and Landon Donovan nearly causing an upset.\n",
       "- **South Korea 2-1 Italy**: One of the biggest upsets in World Cup history, co-host South Korea advanced after a controversial extra-time win, with goals from Seol Ki-hyeon and Ahn Jung-hwan, eliminating the favored Italians.\n",
       "- **Spain 1-0 Ireland**: Spain progressed via a penalty shootout after a 1-1 draw, with Gaizka Mendieta's spot-kick proving decisive.\n",
       "- **Brazil 2-0 Belgium**: Brazil's Ronaldo and Rivaldo shone, securing a comfortable win and maintaining their status as favorites.\n",
       "- **England 3-0 Denmark**: England dominated with goals from Rio Ferdinand, Steven Gerrard, and Michael Owen, showcasing their attacking prowess.\n",
       "- **Turkey 3-0 Japan**: Turkey advanced with a convincing victory, highlighted by Hakan Şükür's quick goal.\n",
       "- **South Korea 5-0 Poland**: In another match, South Korea overwhelmed Poland, but the full Round of 16 included the above key fixtures.\n",
       "\n",
       "This round eliminated half the field and introduced thrilling narratives, such as the co-hosts' momentum.\n",
       "\n",
       "### Quarterfinals, Semifinals, and Key Upsets\n",
       "\n",
       "The quarterfinals and semifinals intensified the competition, with teams battling for a spot in the final. This phase featured dominant performances, defensive masterclasses, and more upsets that defined the tournament's legacy.\n",
       "\n",
       "- **Quarterfinals Highlights**: Brazil defeated England 2-1 in a classic encounter, with Ronaldinho's long-range free-kick standing out. Germany beat the United States 1-0, while South Korea stunned Spain in a penalty shootout after a 0-0 draw, marking another major upset. Turkey edged out Senegal 1-0.\n",
       "  \n",
       "- **Semifinals Action**: Brazil continued their strong run, defeating Turkey 1-0 with a goal from Ronaldo. South Korea faced Germany in a thrilling semifinal, losing 1-0 to a late goal from Oliver Bierhoff, ending their fairy-tale campaign.\n",
       "\n",
       "Key upsets included South Korea's elimination of Italy and Spain, which propelled them to the semifinals as the first Asian team to reach that stage. These moments not only shocked the football world but also highlighted the growing competitiveness of underdog teams. The knockout stage ultimately culminated in Brazil's victory in the final, solidifying their status as five-time champions."
      ],
      "text/plain": [
       "<IPython.core.display.Markdown object>"
      ]
     },
     "metadata": {},
     "output_type": "display_data"
    },
    {
     "data": {
      "text/markdown": [
       "## Final and Champion\n",
       "\n",
       "### The Final Match Details\n",
       "\n",
       "The 2002 FIFA World Cup final took place on June 30, 2002, at the International Stadium in Yokohama, Japan. This highly anticipated match featured Brazil, a football powerhouse seeking its fifth World Cup title, against Germany, a resilient European side aiming for its fourth championship. The game was a showcase of tactical prowess and individual brilliance, with Brazil dominating proceedings. The match ended in a 2-0 victory for Brazil, thanks to two goals from star forward Ronaldo in the 67th and 79th minutes. Despite Germany's strong defensive efforts and a few close attempts, Brazil's fluid attacking play and clinical finishing secured their place in history. The event drew a global television audience of over 1 billion viewers, highlighting the World Cup's immense popularity.\n",
       "\n",
       "### Winning Team and Awards\n",
       "\n",
       "Brazil emerged as the champion of the 2002 FIFA World Cup, clinching their record fifth title and solidifying their status as one of the most successful teams in the tournament's history. The final score against Germany was 2-0, with Ronaldo's brace proving decisive. In addition to the team trophy, several individual awards were handed out to recognize outstanding performances. Ronaldo was named the tournament's top scorer with eight goals, earning him the Golden Boot and the Golden Ball as the best player overall. Other notable awards included the Golden Glove for Germany's Oliver Kahn, who was recognized for his exceptional goalkeeping despite the loss, and the FIFA Fair Play Award, which went to South Korea for their sportsmanship throughout the competition. Brazil's victory marked a triumphant end to the first World Cup co-hosted by Asia."
      ],
      "text/plain": [
       "<IPython.core.display.Markdown object>"
      ]
     },
     "metadata": {},
     "output_type": "display_data"
    },
    {
     "data": {
      "text/markdown": [
       "## Key Moments and Controversies\n",
       "\n",
       "The 2002 FIFA World Cup, held in South Korea and Japan, was filled with thrilling moments that captivated global audiences, as well as several controversies that sparked debates among fans and experts. This section explores the standout highlights and the incidents that left a lasting impact on the tournament's legacy.\n",
       "\n",
       "### Memorable Goals and Performances\n",
       "\n",
       "The 2002 World Cup featured some of the most iconic goals and performances in football history. Brazil's Ronaldo, often called \"O Fenômeno,\" delivered a stellar performance, scoring twice in the final against Germany to secure Brazil's fifth World Cup title with a 2-0 victory. His resilience after previous injuries made this a triumphant comeback story. Another memorable moment was Rivaldo's audacious goal against Turkey in the group stage, where he chested the ball down and volleyed it into the net, showcasing Brazil's flair. Japan's Hidetoshi Nakata and Senegal's surprise run, led by players like El Hadji Diouf, also stood out, with Turkey's third-place finish highlighted by Ümit Davala's contributions, making this tournament a celebration of underdogs and stars alike.\n",
       "\n",
       "### Controversial Decisions and Incidents\n",
       "\n",
       "Controversies marred several matches, drawing scrutiny to officiating and player conduct. One of the most infamous incidents involved Brazil's Rivaldo during the group stage match against Turkey; after being hit by a ball, he dramatically fell to the ground, leading to a red card for Turkey's Hakan Ünsal and widespread criticism for simulation. Refereeing decisions also came under fire, such as in the England vs. Argentina round-of-16 match, where debatable calls, including a disallowed goal, influenced the outcome and fueled accusations of bias. These events raised questions about fair play and the use of technology in football, underscoring the tournament's dramatic edge."
      ],
      "text/plain": [
       "<IPython.core.display.Markdown object>"
      ]
     },
     "metadata": {},
     "output_type": "display_data"
    },
    {
     "data": {
      "text/markdown": [
       "## Legacy and Impact\n",
       "\n",
       "The 2002 FIFA World Cup, co-hosted by South Korea and Japan, left an indelible mark on global football and beyond. As the first World Cup held in Asia, it not only showcased the sport's universal appeal but also catalyzed significant changes in infrastructure, participation, and international perceptions. This section explores the tournament's enduring influence, particularly in Asia, and its broader cultural and economic ramifications.\n",
       "\n",
       "### Influence on Asian Football\n",
       "\n",
       "The 2002 World Cup profoundly transformed football in Asia, elevating the continent's profile in the global game. Hosting the event led to substantial investments in sports facilities, with new stadiums and training centers built in South Korea and Japan that continue to support domestic leagues and youth development programs. South Korea's unexpected semi-final run, led by stars like Hong Myung-bo, inspired a surge in youth participation, with football enrollment in schools skyrocketing and contributing to the country's rise in international rankings. Japan also benefited, as the tournament accelerated professionalization of the J.League, drawing more foreign talent and fostering a competitive environment. Overall, the event broke down stereotypes about Asian football, encouraging greater investment from Asian Football Confederation (AFC) nations and paving the way for future successes, such as Asia's increased representation in subsequent World Cups.\n",
       "\n",
       "### Cultural and Economic Effects\n",
       "\n",
       "Beyond the pitch, the 2002 FIFA World Cup had far-reaching cultural and economic impacts that extended well into the 21st century. Culturally, it promoted East Asian unity and global exchange, with the co-hosting model between South Korea and Japan symbolizing reconciliation and fostering mutual understanding through shared events and fan interactions. The tournament popularized football as a cultural phenomenon in Asia, influencing media, music, and art, while also introducing Western football traditions to new audiences. Economically, it generated billions in revenue through tourism, broadcasting rights, and merchandise sales, boosting local economies in host cities. Infrastructure projects, such as improved transportation and hotels, created lasting jobs and stimulated growth, with estimates suggesting a multi-billion-dollar economic uplift. However, it also highlighted challenges like rising costs and environmental concerns, underscoring the need for sustainable event planning in future global tournaments."
      ],
      "text/plain": [
       "<IPython.core.display.Markdown object>"
      ]
     },
     "metadata": {},
     "output_type": "display_data"
    }
   ],
   "source": [
    "from IPython.display import display, Markdown\n",
    "for s in article.sections: display(Markdown(s))"
   ]
  },
  {
   "cell_type": "markdown",
   "id": "2bdf07e3",
   "metadata": {},
   "source": [
    "# Getting Started III: Optimizing the LM prompts or weights in DSPy programs"
   ]
  },
  {
   "cell_type": "code",
   "execution_count": 15,
   "id": "13492d8a",
   "metadata": {},
   "outputs": [
    {
     "name": "stderr",
     "output_type": "stream",
     "text": [
      "2025/06/24 17:56:22 INFO dspy.teleprompt.mipro_optimizer_v2: \n",
      "RUNNING WITH THE FOLLOWING LIGHT AUTO RUN SETTINGS:\n",
      "num_trials: 20\n",
      "minibatch: True\n",
      "num_fewshot_candidates: 6\n",
      "num_instruct_candidates: 3\n",
      "valset size: 100\n",
      "\n",
      "2025/06/24 17:56:22 INFO dspy.teleprompt.mipro_optimizer_v2: \n",
      "==> STEP 1: BOOTSTRAP FEWSHOT EXAMPLES <==\n",
      "2025/06/24 17:56:22 INFO dspy.teleprompt.mipro_optimizer_v2: These will be used as few-shot example candidates for our program and for creating instructions.\n",
      "\n",
      "2025/06/24 17:56:22 INFO dspy.teleprompt.mipro_optimizer_v2: Bootstrapping N=6 sets of demonstrations...\n"
     ]
    },
    {
     "name": "stdout",
     "output_type": "stream",
     "text": [
      "Bootstrapping set 1/6\n",
      "Bootstrapping set 2/6\n",
      "Bootstrapping set 3/6\n"
     ]
    },
    {
     "name": "stderr",
     "output_type": "stream",
     "text": [
      " 11%|█         | 11/100 [02:26<19:43, 13.30s/it]\n"
     ]
    },
    {
     "name": "stdout",
     "output_type": "stream",
     "text": [
      "Bootstrapped 4 full traces after 11 examples for up to 1 rounds, amounting to 11 attempts.\n",
      "Bootstrapping set 4/6\n"
     ]
    },
    {
     "name": "stderr",
     "output_type": "stream",
     "text": [
      "  7%|▋         | 7/100 [02:07<28:17, 18.26s/it]  \n"
     ]
    },
    {
     "name": "stdout",
     "output_type": "stream",
     "text": [
      "Bootstrapped 3 full traces after 7 examples for up to 1 rounds, amounting to 7 attempts.\n",
      "Bootstrapping set 5/6\n"
     ]
    },
    {
     "name": "stderr",
     "output_type": "stream",
     "text": [
      "  5%|▌         | 5/100 [01:36<30:42, 19.40s/it]\n"
     ]
    },
    {
     "name": "stdout",
     "output_type": "stream",
     "text": [
      "Bootstrapped 1 full traces after 5 examples for up to 1 rounds, amounting to 5 attempts.\n",
      "Bootstrapping set 6/6\n"
     ]
    },
    {
     "name": "stderr",
     "output_type": "stream",
     "text": [
      "  2%|▏         | 2/100 [00:19<16:12,  9.92s/it]\n",
      "2025/06/24 18:02:53 INFO dspy.teleprompt.mipro_optimizer_v2: \n",
      "==> STEP 2: PROPOSE INSTRUCTION CANDIDATES <==\n",
      "2025/06/24 18:02:53 INFO dspy.teleprompt.mipro_optimizer_v2: We will use the few-shot examples from the previous step, a generated dataset summary, a summary of the program code, and a randomly selected prompting tip to propose instructions.\n"
     ]
    },
    {
     "name": "stdout",
     "output_type": "stream",
     "text": [
      "Bootstrapped 1 full traces after 2 examples for up to 1 rounds, amounting to 2 attempts.\n"
     ]
    },
    {
     "name": "stderr",
     "output_type": "stream",
     "text": [
      "2025/06/24 18:04:04 INFO dspy.teleprompt.mipro_optimizer_v2: \n",
      "Proposing N=3 instructions...\n",
      "\n",
      "2025/06/24 18:04:55 WARNING dspy.clients.lm: LM response was truncated due to exceeding max_tokens=4000. You can inspect the latest LM interactions with `dspy.inspect_history()`. To avoid truncation, consider passing a larger max_tokens when setting up dspy.LM. You may also consider increasing the temperature (currently 0.5367909257270278)  if the reason for truncation is repetition.\n",
      "2025/06/24 18:05:32 WARNING dspy.clients.lm: LM response was truncated due to exceeding max_tokens=4000. You can inspect the latest LM interactions with `dspy.inspect_history()`. To avoid truncation, consider passing a larger max_tokens when setting up dspy.LM. You may also consider increasing the temperature (currently 0.5288238833032097)  if the reason for truncation is repetition.\n",
      "2025/06/24 18:06:14 WARNING dspy.clients.lm: LM response was truncated due to exceeding max_tokens=4000. You can inspect the latest LM interactions with `dspy.inspect_history()`. To avoid truncation, consider passing a larger max_tokens when setting up dspy.LM. You may also consider increasing the temperature (currently 0.5229475178611126)  if the reason for truncation is repetition.\n",
      "2025/06/24 18:07:43 WARNING dspy.clients.lm: LM response was truncated due to exceeding max_tokens=4000. You can inspect the latest LM interactions with `dspy.inspect_history()`. To avoid truncation, consider passing a larger max_tokens when setting up dspy.LM. You may also consider increasing the temperature (currently 0.5467066796223823)  if the reason for truncation is repetition.\n",
      "2025/06/24 18:08:13 WARNING dspy.clients.lm: LM response was truncated due to exceeding max_tokens=4000. You can inspect the latest LM interactions with `dspy.inspect_history()`. To avoid truncation, consider passing a larger max_tokens when setting up dspy.LM. You may also consider increasing the temperature (currently 0.5467066796223823)  if the reason for truncation is repetition.\n",
      "2025/06/24 18:08:17 INFO dspy.teleprompt.mipro_optimizer_v2: Proposed Instructions for Predictor 0:\n",
      "\n",
      "2025/06/24 18:08:17 INFO dspy.teleprompt.mipro_optimizer_v2: 0: Given the fields `question`, produce the fields `answer`.\n",
      "\n",
      "You are an Agent. In each episode, you will be given the fields `question` as input. And you can see your past trajectory so far.\n",
      "Your goal is to use one or more of the supplied tools to collect any necessary information for producing `answer`.\n",
      "\n",
      "To do this, you will interleave next_thought, next_tool_name, and next_tool_args in each turn, and also when finishing the task.\n",
      "After each tool call, you receive a resulting observation, which gets appended to your trajectory.\n",
      "\n",
      "When writing next_thought, you may reason about the current situation and plan for future steps.\n",
      "When selecting the next_tool_name and its next_tool_args, the tool must be one of:\n",
      "\n",
      "(1) search_wikipedia. It takes arguments {'query': {'type': 'string'}}.\n",
      "(2) finish, whose description is <desc>Marks the task as complete. That is, signals that all information for producing the outputs, i.e. `answer`, are now available to be extracted.</desc>. It takes arguments {}.\n",
      "When providing `next_tool_args`, the value inside the field must be in JSON format\n",
      "\n",
      "2025/06/24 18:08:17 INFO dspy.teleprompt.mipro_optimizer_v2: 1: You are an intelligent Agent tasked with answering user questions that may require external knowledge. Given the input fields `question` (the user's query) and `trajectory` (a history of your previous thoughts, tool calls, and observations), your goal is to generate the outputs: `next_thought` (a clear, step-by-step reasoning about the current state and your plan for the next action), `next_tool_name` (the name of the tool to use next, either 'search_wikipedia' or 'finish'), and `next_tool_args` (a dictionary in JSON format specifying the arguments for the selected tool).\n",
      "\n",
      "Available tools are:\n",
      "(1) search_wikipedia: Use this to query Wikipedia for information. It requires a single argument: {'query': 'a string representing the search term'}.\n",
      "(2) finish: Use this when you have gathered all necessary information to answer the question, marking the task as complete. It requires no arguments: {}.\n",
      "\n",
      "In each turn, begin by writing `next_thought` to analyze the `question` and `trajectory`, reason logically about what information is missing, and decide on the next step. Then, select the appropriate `next_tool_name` and provide `next_tool_args` in valid JSON format. After a tool is executed, its observation will be added to the `trajectory` for your next iteration. Continue this process iteratively until you can confidently produce the final answer, at which point you should select 'finish'. Always ensure your reasoning is concise, accurate, and directly tied to the question, drawing from examples like verifying if certain entities are plants by searching Wikipedia step-by-step.\n",
      "\n",
      "2025/06/24 18:08:17 INFO dspy.teleprompt.mipro_optimizer_v2: 2: You are a diligent research assistant agent, specializing in answering factual questions by leveraging external tools for accurate information retrieval. Given the fields `question` and the current `trajectory`, your task is to produce the fields `next_thought`, `next_tool_name`, and `next_tool_args`. Start by analyzing the question and any past observations in the trajectory to reason step by step. In your `next_thought`, clearly explain your current understanding and plan the next action. Then, select a `next_tool_name` from the available options: (1) 'search_wikipedia', which requires arguments in JSON format like {'query': 'a search term'}, or (2) 'finish', which takes no arguments and signals task completion when all necessary information for answering the question is gathered. Ensure that `next_tool_args` is always provided in valid JSON format. Your responses should be precise, logical, and aimed at efficiently gathering information to ultimately produce an accurate answer.\n",
      "\n",
      "2025/06/24 18:08:17 INFO dspy.teleprompt.mipro_optimizer_v2: \n",
      "\n",
      "2025/06/24 18:08:17 INFO dspy.teleprompt.mipro_optimizer_v2: Proposed Instructions for Predictor 1:\n",
      "\n",
      "2025/06/24 18:08:17 INFO dspy.teleprompt.mipro_optimizer_v2: 0: Given the fields `question`, produce the fields `answer`.\n",
      "\n",
      "2025/06/24 18:08:17 INFO dspy.teleprompt.mipro_optimizer_v2: 1: You are an AI agent in a ReAct framework, responsible for synthesizing information from a user's question and an accumulated trajectory of thoughts, tool interactions, and observations to produce a clear, step-by-step reasoning process and a final, precise answer. Given the fields `question` (which is a concise, natural language query on topics like biology, history, or pop culture) and `trajectory` (which includes a sequence of thoughts, tool names like 'search_wikipedia', tool arguments in JSON format, and resulting observations from external sources), your task is to carefully analyze the trajectory to extract relevant facts, reason logically through the information gathered, and generate the fields `reasoning` and `answer`. \n",
      "\n",
      "Start your `reasoning` with the phrase \"Let's think step by step in order to\" followed by a detailed, sequential breakdown: summarize key observations from the trajectory, connect them back to the original question, address any uncertainties or multiple steps involved, and ensure the explanation is coherent and evidence-based. Finally, provide the `answer` as a brief, direct, and accurate response that directly answers the question without extraneous details, drawing solely from the trajectory's data. This process ensures the response is reliable, factually grounded, and suitable for trivia or information-retrieval tasks.\n",
      "\n",
      "2025/06/24 18:08:17 INFO dspy.teleprompt.mipro_optimizer_v2: 2: Given the fields `question` and `trajectory`, use step-by-step reasoning to analyze the trajectory and produce the fields `reasoning` and `answer` based on the gathered information.\n",
      "\n",
      "2025/06/24 18:08:17 INFO dspy.teleprompt.mipro_optimizer_v2: \n",
      "\n",
      "2025/06/24 18:08:17 INFO dspy.teleprompt.mipro_optimizer_v2: ==> STEP 3: FINDING OPTIMAL PROMPT PARAMETERS <==\n",
      "2025/06/24 18:08:17 INFO dspy.teleprompt.mipro_optimizer_v2: We will evaluate the program over a series of trials with different combinations of instructions and few-shot examples to find the optimal combination using Bayesian Optimization.\n",
      "\n",
      "2025/06/24 18:08:17 INFO dspy.teleprompt.mipro_optimizer_v2: == Trial 1 / 25 - Full Evaluation of Default Program ==\n"
     ]
    },
    {
     "name": "stdout",
     "output_type": "stream",
     "text": [
      "Average Metric: 42.00 / 100 (42.0%): 100%|██████████| 100/100 [01:56<00:00,  1.16s/it]"
     ]
    },
    {
     "name": "stderr",
     "output_type": "stream",
     "text": [
      "2025/06/24 18:10:14 INFO dspy.evaluate.evaluate: Average Metric: 42 / 100 (42.0%)\n",
      "2025/06/24 18:10:14 INFO dspy.teleprompt.mipro_optimizer_v2: Default program score: 42.0\n",
      "\n",
      "c:\\Users\\hadar\\anaconda3\\Lib\\site-packages\\optuna\\_experimental.py:32: ExperimentalWarning: Argument ``multivariate`` is an experimental feature. The interface can change in the future.\n",
      "  warnings.warn(\n",
      "2025/06/24 18:10:14 INFO dspy.teleprompt.mipro_optimizer_v2: == Trial 2 / 25 - Minibatch ==\n"
     ]
    },
    {
     "name": "stdout",
     "output_type": "stream",
     "text": [
      "\n",
      "Average Metric: 11.00 / 35 (31.4%): 100%|██████████| 35/35 [00:43<00:00,  1.25s/it]"
     ]
    },
    {
     "name": "stderr",
     "output_type": "stream",
     "text": [
      "2025/06/24 18:10:58 INFO dspy.evaluate.evaluate: Average Metric: 11 / 35 (31.4%)\n",
      "2025/06/24 18:10:58 INFO dspy.teleprompt.mipro_optimizer_v2: Score: 31.43 on minibatch of size 35 with parameters ['Predictor 0: Instruction 1', 'Predictor 0: Few-Shot Set 3', 'Predictor 1: Instruction 2', 'Predictor 1: Few-Shot Set 0'].\n",
      "2025/06/24 18:10:58 INFO dspy.teleprompt.mipro_optimizer_v2: Minibatch scores so far: [31.43]\n",
      "2025/06/24 18:10:58 INFO dspy.teleprompt.mipro_optimizer_v2: Full eval scores so far: [42.0]\n",
      "2025/06/24 18:10:58 INFO dspy.teleprompt.mipro_optimizer_v2: Best full score so far: 42.0\n",
      "2025/06/24 18:10:58 INFO dspy.teleprompt.mipro_optimizer_v2: =========================================\n",
      "\n",
      "\n",
      "2025/06/24 18:10:58 INFO dspy.teleprompt.mipro_optimizer_v2: == Trial 3 / 25 - Minibatch ==\n"
     ]
    },
    {
     "name": "stdout",
     "output_type": "stream",
     "text": [
      "\n",
      "Average Metric: 13.00 / 35 (37.1%): 100%|██████████| 35/35 [00:46<00:00,  1.34s/it]"
     ]
    },
    {
     "name": "stderr",
     "output_type": "stream",
     "text": [
      "2025/06/24 18:11:46 INFO dspy.evaluate.evaluate: Average Metric: 13 / 35 (37.1%)\n",
      "2025/06/24 18:11:46 INFO dspy.teleprompt.mipro_optimizer_v2: Score: 37.14 on minibatch of size 35 with parameters ['Predictor 0: Instruction 1', 'Predictor 0: Few-Shot Set 5', 'Predictor 1: Instruction 2', 'Predictor 1: Few-Shot Set 2'].\n",
      "2025/06/24 18:11:46 INFO dspy.teleprompt.mipro_optimizer_v2: Minibatch scores so far: [31.43, 37.14]\n",
      "2025/06/24 18:11:46 INFO dspy.teleprompt.mipro_optimizer_v2: Full eval scores so far: [42.0]\n",
      "2025/06/24 18:11:46 INFO dspy.teleprompt.mipro_optimizer_v2: Best full score so far: 42.0\n",
      "2025/06/24 18:11:46 INFO dspy.teleprompt.mipro_optimizer_v2: =========================================\n",
      "\n",
      "\n",
      "2025/06/24 18:11:46 INFO dspy.teleprompt.mipro_optimizer_v2: == Trial 4 / 25 - Minibatch ==\n"
     ]
    },
    {
     "name": "stdout",
     "output_type": "stream",
     "text": [
      "\n",
      "Average Metric: 20.00 / 35 (57.1%): 100%|██████████| 35/35 [00:56<00:00,  1.62s/it]"
     ]
    },
    {
     "name": "stderr",
     "output_type": "stream",
     "text": [
      "2025/06/24 18:12:43 INFO dspy.evaluate.evaluate: Average Metric: 20 / 35 (57.1%)\n",
      "2025/06/24 18:12:43 INFO dspy.teleprompt.mipro_optimizer_v2: Score: 57.14 on minibatch of size 35 with parameters ['Predictor 0: Instruction 0', 'Predictor 0: Few-Shot Set 5', 'Predictor 1: Instruction 2', 'Predictor 1: Few-Shot Set 0'].\n",
      "2025/06/24 18:12:43 INFO dspy.teleprompt.mipro_optimizer_v2: Minibatch scores so far: [31.43, 37.14, 57.14]\n",
      "2025/06/24 18:12:43 INFO dspy.teleprompt.mipro_optimizer_v2: Full eval scores so far: [42.0]\n",
      "2025/06/24 18:12:43 INFO dspy.teleprompt.mipro_optimizer_v2: Best full score so far: 42.0\n",
      "2025/06/24 18:12:43 INFO dspy.teleprompt.mipro_optimizer_v2: =========================================\n",
      "\n",
      "\n",
      "2025/06/24 18:12:43 INFO dspy.teleprompt.mipro_optimizer_v2: == Trial 5 / 25 - Minibatch ==\n"
     ]
    },
    {
     "name": "stdout",
     "output_type": "stream",
     "text": [
      "\n",
      "Average Metric: 21.00 / 35 (60.0%): 100%|██████████| 35/35 [00:38<00:00,  1.09s/it]"
     ]
    },
    {
     "name": "stderr",
     "output_type": "stream",
     "text": [
      "2025/06/24 18:13:21 INFO dspy.evaluate.evaluate: Average Metric: 21 / 35 (60.0%)\n",
      "2025/06/24 18:13:21 INFO dspy.teleprompt.mipro_optimizer_v2: Score: 60.0 on minibatch of size 35 with parameters ['Predictor 0: Instruction 2', 'Predictor 0: Few-Shot Set 5', 'Predictor 1: Instruction 1', 'Predictor 1: Few-Shot Set 4'].\n",
      "2025/06/24 18:13:21 INFO dspy.teleprompt.mipro_optimizer_v2: Minibatch scores so far: [31.43, 37.14, 57.14, 60.0]\n",
      "2025/06/24 18:13:21 INFO dspy.teleprompt.mipro_optimizer_v2: Full eval scores so far: [42.0]\n",
      "2025/06/24 18:13:21 INFO dspy.teleprompt.mipro_optimizer_v2: Best full score so far: 42.0\n",
      "2025/06/24 18:13:21 INFO dspy.teleprompt.mipro_optimizer_v2: =========================================\n",
      "\n",
      "\n",
      "2025/06/24 18:13:21 INFO dspy.teleprompt.mipro_optimizer_v2: == Trial 6 / 25 - Minibatch ==\n"
     ]
    },
    {
     "name": "stdout",
     "output_type": "stream",
     "text": [
      "\n",
      "Average Metric: 19.00 / 35 (54.3%): 100%|██████████| 35/35 [00:44<00:00,  1.26s/it]"
     ]
    },
    {
     "name": "stderr",
     "output_type": "stream",
     "text": [
      "2025/06/24 18:14:06 INFO dspy.evaluate.evaluate: Average Metric: 19 / 35 (54.3%)\n",
      "2025/06/24 18:14:06 INFO dspy.teleprompt.mipro_optimizer_v2: Score: 54.29 on minibatch of size 35 with parameters ['Predictor 0: Instruction 2', 'Predictor 0: Few-Shot Set 5', 'Predictor 1: Instruction 2', 'Predictor 1: Few-Shot Set 2'].\n",
      "2025/06/24 18:14:06 INFO dspy.teleprompt.mipro_optimizer_v2: Minibatch scores so far: [31.43, 37.14, 57.14, 60.0, 54.29]\n",
      "2025/06/24 18:14:06 INFO dspy.teleprompt.mipro_optimizer_v2: Full eval scores so far: [42.0]\n",
      "2025/06/24 18:14:06 INFO dspy.teleprompt.mipro_optimizer_v2: Best full score so far: 42.0\n",
      "2025/06/24 18:14:06 INFO dspy.teleprompt.mipro_optimizer_v2: =========================================\n",
      "\n",
      "\n",
      "2025/06/24 18:14:06 INFO dspy.teleprompt.mipro_optimizer_v2: ===== Trial 7 / 25 - Full Evaluation =====\n",
      "2025/06/24 18:14:06 INFO dspy.teleprompt.mipro_optimizer_v2: Doing full eval on next top averaging program (Avg Score: 60.0) from minibatch trials...\n"
     ]
    },
    {
     "name": "stdout",
     "output_type": "stream",
     "text": [
      "\n",
      "Average Metric: 59.00 / 100 (59.0%): 100%|██████████| 100/100 [01:06<00:00,  1.50it/s]"
     ]
    },
    {
     "name": "stderr",
     "output_type": "stream",
     "text": [
      "2025/06/24 18:15:13 INFO dspy.evaluate.evaluate: Average Metric: 59 / 100 (59.0%)\n",
      "2025/06/24 18:15:13 INFO dspy.teleprompt.mipro_optimizer_v2: \u001b[92mNew best full eval score!\u001b[0m Score: 59.0\n",
      "2025/06/24 18:15:13 INFO dspy.teleprompt.mipro_optimizer_v2: Full eval scores so far: [42.0, 59.0]\n",
      "2025/06/24 18:15:13 INFO dspy.teleprompt.mipro_optimizer_v2: Best full score so far: 59.0\n",
      "2025/06/24 18:15:13 INFO dspy.teleprompt.mipro_optimizer_v2: =======================\n",
      "2025/06/24 18:15:13 INFO dspy.teleprompt.mipro_optimizer_v2: \n",
      "\n",
      "2025/06/24 18:15:13 INFO dspy.teleprompt.mipro_optimizer_v2: == Trial 8 / 25 - Minibatch ==\n"
     ]
    },
    {
     "name": "stdout",
     "output_type": "stream",
     "text": [
      "\n",
      "Average Metric: 15.00 / 35 (42.9%): 100%|██████████| 35/35 [00:39<00:00,  1.12s/it]"
     ]
    },
    {
     "name": "stderr",
     "output_type": "stream",
     "text": [
      "2025/06/24 18:15:53 INFO dspy.evaluate.evaluate: Average Metric: 15 / 35 (42.9%)\n",
      "2025/06/24 18:15:53 INFO dspy.teleprompt.mipro_optimizer_v2: Score: 42.86 on minibatch of size 35 with parameters ['Predictor 0: Instruction 0', 'Predictor 0: Few-Shot Set 5', 'Predictor 1: Instruction 0', 'Predictor 1: Few-Shot Set 0'].\n",
      "2025/06/24 18:15:53 INFO dspy.teleprompt.mipro_optimizer_v2: Minibatch scores so far: [31.43, 37.14, 57.14, 60.0, 54.29, 42.86]\n",
      "2025/06/24 18:15:53 INFO dspy.teleprompt.mipro_optimizer_v2: Full eval scores so far: [42.0, 59.0]\n",
      "2025/06/24 18:15:53 INFO dspy.teleprompt.mipro_optimizer_v2: Best full score so far: 59.0\n",
      "2025/06/24 18:15:53 INFO dspy.teleprompt.mipro_optimizer_v2: =========================================\n",
      "\n",
      "\n",
      "2025/06/24 18:15:53 INFO dspy.teleprompt.mipro_optimizer_v2: == Trial 9 / 25 - Minibatch ==\n"
     ]
    },
    {
     "name": "stdout",
     "output_type": "stream",
     "text": [
      "\n",
      "Average Metric: 23.00 / 35 (65.7%): 100%|██████████| 35/35 [00:43<00:00,  1.25s/it]"
     ]
    },
    {
     "name": "stderr",
     "output_type": "stream",
     "text": [
      "2025/06/24 18:16:37 INFO dspy.evaluate.evaluate: Average Metric: 23 / 35 (65.7%)\n"
     ]
    },
    {
     "name": "stdout",
     "output_type": "stream",
     "text": [
      "\n"
     ]
    },
    {
     "name": "stderr",
     "output_type": "stream",
     "text": [
      "2025/06/24 18:16:37 INFO dspy.teleprompt.mipro_optimizer_v2: Score: 65.71 on minibatch of size 35 with parameters ['Predictor 0: Instruction 1', 'Predictor 0: Few-Shot Set 2', 'Predictor 1: Instruction 2', 'Predictor 1: Few-Shot Set 1'].\n",
      "2025/06/24 18:16:37 INFO dspy.teleprompt.mipro_optimizer_v2: Minibatch scores so far: [31.43, 37.14, 57.14, 60.0, 54.29, 42.86, 65.71]\n",
      "2025/06/24 18:16:37 INFO dspy.teleprompt.mipro_optimizer_v2: Full eval scores so far: [42.0, 59.0]\n",
      "2025/06/24 18:16:37 INFO dspy.teleprompt.mipro_optimizer_v2: Best full score so far: 59.0\n",
      "2025/06/24 18:16:37 INFO dspy.teleprompt.mipro_optimizer_v2: =========================================\n",
      "\n",
      "\n",
      "2025/06/24 18:16:37 INFO dspy.teleprompt.mipro_optimizer_v2: == Trial 10 / 25 - Minibatch ==\n"
     ]
    },
    {
     "name": "stdout",
     "output_type": "stream",
     "text": [
      "Average Metric: 15.00 / 35 (42.9%): 100%|██████████| 35/35 [00:48<00:00,  1.38s/it]"
     ]
    },
    {
     "name": "stderr",
     "output_type": "stream",
     "text": [
      "2025/06/24 18:17:26 INFO dspy.evaluate.evaluate: Average Metric: 15 / 35 (42.9%)\n",
      "2025/06/24 18:17:26 INFO dspy.teleprompt.mipro_optimizer_v2: Score: 42.86 on minibatch of size 35 with parameters ['Predictor 0: Instruction 1', 'Predictor 0: Few-Shot Set 0', 'Predictor 1: Instruction 0', 'Predictor 1: Few-Shot Set 0'].\n",
      "2025/06/24 18:17:26 INFO dspy.teleprompt.mipro_optimizer_v2: Minibatch scores so far: [31.43, 37.14, 57.14, 60.0, 54.29, 42.86, 65.71, 42.86]\n",
      "2025/06/24 18:17:26 INFO dspy.teleprompt.mipro_optimizer_v2: Full eval scores so far: [42.0, 59.0]\n",
      "2025/06/24 18:17:26 INFO dspy.teleprompt.mipro_optimizer_v2: Best full score so far: 59.0\n",
      "2025/06/24 18:17:26 INFO dspy.teleprompt.mipro_optimizer_v2: ==========================================\n",
      "\n",
      "\n",
      "2025/06/24 18:17:26 INFO dspy.teleprompt.mipro_optimizer_v2: == Trial 11 / 25 - Minibatch ==\n"
     ]
    },
    {
     "name": "stdout",
     "output_type": "stream",
     "text": [
      "\n",
      "Average Metric: 18.00 / 35 (51.4%): 100%|██████████| 35/35 [00:57<00:00,  1.64s/it]"
     ]
    },
    {
     "name": "stderr",
     "output_type": "stream",
     "text": [
      "2025/06/24 18:18:24 INFO dspy.evaluate.evaluate: Average Metric: 18 / 35 (51.4%)\n",
      "2025/06/24 18:18:24 INFO dspy.teleprompt.mipro_optimizer_v2: Score: 51.43 on minibatch of size 35 with parameters ['Predictor 0: Instruction 1', 'Predictor 0: Few-Shot Set 4', 'Predictor 1: Instruction 2', 'Predictor 1: Few-Shot Set 1'].\n",
      "2025/06/24 18:18:24 INFO dspy.teleprompt.mipro_optimizer_v2: Minibatch scores so far: [31.43, 37.14, 57.14, 60.0, 54.29, 42.86, 65.71, 42.86, 51.43]\n",
      "2025/06/24 18:18:24 INFO dspy.teleprompt.mipro_optimizer_v2: Full eval scores so far: [42.0, 59.0]\n",
      "2025/06/24 18:18:24 INFO dspy.teleprompt.mipro_optimizer_v2: Best full score so far: 59.0\n",
      "2025/06/24 18:18:24 INFO dspy.teleprompt.mipro_optimizer_v2: ==========================================\n",
      "\n",
      "\n",
      "2025/06/24 18:18:24 INFO dspy.teleprompt.mipro_optimizer_v2: == Trial 12 / 25 - Minibatch ==\n"
     ]
    },
    {
     "name": "stdout",
     "output_type": "stream",
     "text": [
      "\n",
      "Average Metric: 20.00 / 35 (57.1%): 100%|██████████| 35/35 [00:39<00:00,  1.12s/it]"
     ]
    },
    {
     "name": "stderr",
     "output_type": "stream",
     "text": [
      "2025/06/24 18:19:04 INFO dspy.evaluate.evaluate: Average Metric: 20 / 35 (57.1%)\n",
      "2025/06/24 18:19:04 INFO dspy.teleprompt.mipro_optimizer_v2: Score: 57.14 on minibatch of size 35 with parameters ['Predictor 0: Instruction 2', 'Predictor 0: Few-Shot Set 4', 'Predictor 1: Instruction 1', 'Predictor 1: Few-Shot Set 4'].\n",
      "2025/06/24 18:19:04 INFO dspy.teleprompt.mipro_optimizer_v2: Minibatch scores so far: [31.43, 37.14, 57.14, 60.0, 54.29, 42.86, 65.71, 42.86, 51.43, 57.14]\n",
      "2025/06/24 18:19:04 INFO dspy.teleprompt.mipro_optimizer_v2: Full eval scores so far: [42.0, 59.0]\n",
      "2025/06/24 18:19:04 INFO dspy.teleprompt.mipro_optimizer_v2: Best full score so far: 59.0\n",
      "2025/06/24 18:19:04 INFO dspy.teleprompt.mipro_optimizer_v2: ==========================================\n",
      "\n",
      "\n",
      "2025/06/24 18:19:04 INFO dspy.teleprompt.mipro_optimizer_v2: ===== Trial 13 / 25 - Full Evaluation =====\n",
      "2025/06/24 18:19:04 INFO dspy.teleprompt.mipro_optimizer_v2: Doing full eval on next top averaging program (Avg Score: 65.71) from minibatch trials...\n"
     ]
    },
    {
     "name": "stdout",
     "output_type": "stream",
     "text": [
      "\n",
      "Average Metric: 60.00 / 100 (60.0%): 100%|██████████| 100/100 [01:12<00:00,  1.39it/s]"
     ]
    },
    {
     "name": "stderr",
     "output_type": "stream",
     "text": [
      "2025/06/24 18:20:17 INFO dspy.evaluate.evaluate: Average Metric: 60 / 100 (60.0%)\n",
      "2025/06/24 18:20:17 INFO dspy.teleprompt.mipro_optimizer_v2: \u001b[92mNew best full eval score!\u001b[0m Score: 60.0\n"
     ]
    },
    {
     "name": "stdout",
     "output_type": "stream",
     "text": [
      "\n"
     ]
    },
    {
     "name": "stderr",
     "output_type": "stream",
     "text": [
      "2025/06/24 18:20:17 INFO dspy.teleprompt.mipro_optimizer_v2: Full eval scores so far: [42.0, 59.0, 60.0]\n",
      "2025/06/24 18:20:17 INFO dspy.teleprompt.mipro_optimizer_v2: Best full score so far: 60.0\n",
      "2025/06/24 18:20:17 INFO dspy.teleprompt.mipro_optimizer_v2: =======================\n",
      "2025/06/24 18:20:17 INFO dspy.teleprompt.mipro_optimizer_v2: \n",
      "\n",
      "2025/06/24 18:20:17 INFO dspy.teleprompt.mipro_optimizer_v2: == Trial 14 / 25 - Minibatch ==\n"
     ]
    },
    {
     "name": "stdout",
     "output_type": "stream",
     "text": [
      "Average Metric: 21.00 / 35 (60.0%): 100%|██████████| 35/35 [00:00<00:00, 412.02it/s]"
     ]
    },
    {
     "name": "stderr",
     "output_type": "stream",
     "text": [
      "2025/06/24 18:20:19 INFO dspy.evaluate.evaluate: Average Metric: 21 / 35 (60.0%)\n"
     ]
    },
    {
     "name": "stdout",
     "output_type": "stream",
     "text": [
      "\n"
     ]
    },
    {
     "name": "stderr",
     "output_type": "stream",
     "text": [
      "2025/06/24 18:20:19 INFO dspy.teleprompt.mipro_optimizer_v2: Score: 60.0 on minibatch of size 35 with parameters ['Predictor 0: Instruction 2', 'Predictor 0: Few-Shot Set 5', 'Predictor 1: Instruction 1', 'Predictor 1: Few-Shot Set 4'].\n",
      "2025/06/24 18:20:19 INFO dspy.teleprompt.mipro_optimizer_v2: Minibatch scores so far: [31.43, 37.14, 57.14, 60.0, 54.29, 42.86, 65.71, 42.86, 51.43, 57.14, 60.0]\n",
      "2025/06/24 18:20:19 INFO dspy.teleprompt.mipro_optimizer_v2: Full eval scores so far: [42.0, 59.0, 60.0]\n",
      "2025/06/24 18:20:19 INFO dspy.teleprompt.mipro_optimizer_v2: Best full score so far: 60.0\n",
      "2025/06/24 18:20:19 INFO dspy.teleprompt.mipro_optimizer_v2: ==========================================\n",
      "\n",
      "\n",
      "2025/06/24 18:20:19 INFO dspy.teleprompt.mipro_optimizer_v2: == Trial 15 / 25 - Minibatch ==\n"
     ]
    },
    {
     "name": "stdout",
     "output_type": "stream",
     "text": [
      "Average Metric: 23.00 / 35 (65.7%): 100%|██████████| 35/35 [00:10<00:00,  3.32it/s]"
     ]
    },
    {
     "name": "stderr",
     "output_type": "stream",
     "text": [
      "2025/06/24 18:20:31 INFO dspy.evaluate.evaluate: Average Metric: 23 / 35 (65.7%)\n",
      "2025/06/24 18:20:32 INFO dspy.teleprompt.mipro_optimizer_v2: Score: 65.71 on minibatch of size 35 with parameters ['Predictor 0: Instruction 1', 'Predictor 0: Few-Shot Set 2', 'Predictor 1: Instruction 0', 'Predictor 1: Few-Shot Set 1'].\n",
      "2025/06/24 18:20:32 INFO dspy.teleprompt.mipro_optimizer_v2: Minibatch scores so far: [31.43, 37.14, 57.14, 60.0, 54.29, 42.86, 65.71, 42.86, 51.43, 57.14, 60.0, 65.71]\n",
      "2025/06/24 18:20:32 INFO dspy.teleprompt.mipro_optimizer_v2: Full eval scores so far: [42.0, 59.0, 60.0]\n",
      "2025/06/24 18:20:32 INFO dspy.teleprompt.mipro_optimizer_v2: Best full score so far: 60.0\n",
      "2025/06/24 18:20:32 INFO dspy.teleprompt.mipro_optimizer_v2: ==========================================\n",
      "\n",
      "\n",
      "2025/06/24 18:20:32 INFO dspy.teleprompt.mipro_optimizer_v2: == Trial 16 / 25 - Minibatch ==\n"
     ]
    },
    {
     "name": "stdout",
     "output_type": "stream",
     "text": [
      "\n",
      "Average Metric: 21.00 / 35 (60.0%): 100%|██████████| 35/35 [00:08<00:00,  4.11it/s]"
     ]
    },
    {
     "name": "stderr",
     "output_type": "stream",
     "text": [
      "2025/06/24 18:20:42 INFO dspy.evaluate.evaluate: Average Metric: 21 / 35 (60.0%)\n"
     ]
    },
    {
     "name": "stdout",
     "output_type": "stream",
     "text": [
      "\n"
     ]
    },
    {
     "name": "stderr",
     "output_type": "stream",
     "text": [
      "2025/06/24 18:20:43 INFO dspy.teleprompt.mipro_optimizer_v2: Score: 60.0 on minibatch of size 35 with parameters ['Predictor 0: Instruction 1', 'Predictor 0: Few-Shot Set 2', 'Predictor 1: Instruction 0', 'Predictor 1: Few-Shot Set 5'].\n",
      "2025/06/24 18:20:43 INFO dspy.teleprompt.mipro_optimizer_v2: Minibatch scores so far: [31.43, 37.14, 57.14, 60.0, 54.29, 42.86, 65.71, 42.86, 51.43, 57.14, 60.0, 65.71, 60.0]\n",
      "2025/06/24 18:20:43 INFO dspy.teleprompt.mipro_optimizer_v2: Full eval scores so far: [42.0, 59.0, 60.0]\n",
      "2025/06/24 18:20:43 INFO dspy.teleprompt.mipro_optimizer_v2: Best full score so far: 60.0\n",
      "2025/06/24 18:20:43 INFO dspy.teleprompt.mipro_optimizer_v2: ==========================================\n",
      "\n",
      "\n",
      "2025/06/24 18:20:43 INFO dspy.teleprompt.mipro_optimizer_v2: == Trial 17 / 25 - Minibatch ==\n"
     ]
    },
    {
     "name": "stdout",
     "output_type": "stream",
     "text": [
      "Average Metric: 18.00 / 35 (51.4%): 100%|██████████| 35/35 [00:11<00:00,  3.08it/s]"
     ]
    },
    {
     "name": "stderr",
     "output_type": "stream",
     "text": [
      "2025/06/24 18:20:56 INFO dspy.evaluate.evaluate: Average Metric: 18 / 35 (51.4%)\n",
      "2025/06/24 18:20:56 INFO dspy.teleprompt.mipro_optimizer_v2: Score: 51.43 on minibatch of size 35 with parameters ['Predictor 0: Instruction 1', 'Predictor 0: Few-Shot Set 2', 'Predictor 1: Instruction 0', 'Predictor 1: Few-Shot Set 1'].\n",
      "2025/06/24 18:20:56 INFO dspy.teleprompt.mipro_optimizer_v2: Minibatch scores so far: [31.43, 37.14, 57.14, 60.0, 54.29, 42.86, 65.71, 42.86, 51.43, 57.14, 60.0, 65.71, 60.0, 51.43]\n",
      "2025/06/24 18:20:56 INFO dspy.teleprompt.mipro_optimizer_v2: Full eval scores so far: [42.0, 59.0, 60.0]\n",
      "2025/06/24 18:20:56 INFO dspy.teleprompt.mipro_optimizer_v2: Best full score so far: 60.0\n",
      "2025/06/24 18:20:56 INFO dspy.teleprompt.mipro_optimizer_v2: ==========================================\n",
      "\n",
      "\n",
      "2025/06/24 18:20:56 INFO dspy.teleprompt.mipro_optimizer_v2: == Trial 18 / 25 - Minibatch ==\n"
     ]
    },
    {
     "name": "stdout",
     "output_type": "stream",
     "text": [
      "\n",
      "Average Metric: 22.00 / 35 (62.9%): 100%|██████████| 35/35 [00:35<00:00,  1.00s/it]"
     ]
    },
    {
     "name": "stderr",
     "output_type": "stream",
     "text": [
      "2025/06/24 18:21:31 INFO dspy.evaluate.evaluate: Average Metric: 22 / 35 (62.9%)\n",
      "2025/06/24 18:21:31 INFO dspy.teleprompt.mipro_optimizer_v2: Score: 62.86 on minibatch of size 35 with parameters ['Predictor 0: Instruction 0', 'Predictor 0: Few-Shot Set 2', 'Predictor 1: Instruction 2', 'Predictor 1: Few-Shot Set 1'].\n",
      "2025/06/24 18:21:31 INFO dspy.teleprompt.mipro_optimizer_v2: Minibatch scores so far: [31.43, 37.14, 57.14, 60.0, 54.29, 42.86, 65.71, 42.86, 51.43, 57.14, 60.0, 65.71, 60.0, 51.43, 62.86]\n",
      "2025/06/24 18:21:31 INFO dspy.teleprompt.mipro_optimizer_v2: Full eval scores so far: [42.0, 59.0, 60.0]\n",
      "2025/06/24 18:21:32 INFO dspy.teleprompt.mipro_optimizer_v2: Best full score so far: 60.0\n",
      "2025/06/24 18:21:32 INFO dspy.teleprompt.mipro_optimizer_v2: ==========================================\n",
      "\n",
      "\n",
      "2025/06/24 18:21:32 INFO dspy.teleprompt.mipro_optimizer_v2: ===== Trial 19 / 25 - Full Evaluation =====\n",
      "2025/06/24 18:21:32 INFO dspy.teleprompt.mipro_optimizer_v2: Doing full eval on next top averaging program (Avg Score: 62.86) from minibatch trials...\n"
     ]
    },
    {
     "name": "stdout",
     "output_type": "stream",
     "text": [
      "\n",
      "Average Metric: 60.00 / 100 (60.0%): 100%|██████████| 100/100 [01:09<00:00,  1.45it/s]"
     ]
    },
    {
     "name": "stderr",
     "output_type": "stream",
     "text": [
      "2025/06/24 18:22:42 INFO dspy.evaluate.evaluate: Average Metric: 60 / 100 (60.0%)\n",
      "2025/06/24 18:22:42 INFO dspy.teleprompt.mipro_optimizer_v2: Full eval scores so far: [42.0, 59.0, 60.0, 60.0]\n",
      "2025/06/24 18:22:42 INFO dspy.teleprompt.mipro_optimizer_v2: Best full score so far: 60.0\n",
      "2025/06/24 18:22:42 INFO dspy.teleprompt.mipro_optimizer_v2: =======================\n",
      "2025/06/24 18:22:42 INFO dspy.teleprompt.mipro_optimizer_v2: \n",
      "\n",
      "2025/06/24 18:22:42 INFO dspy.teleprompt.mipro_optimizer_v2: == Trial 20 / 25 - Minibatch ==\n"
     ]
    },
    {
     "name": "stdout",
     "output_type": "stream",
     "text": [
      "\n",
      "Average Metric: 22.00 / 35 (62.9%): 100%|██████████| 35/35 [00:46<00:00,  1.32s/it]"
     ]
    },
    {
     "name": "stderr",
     "output_type": "stream",
     "text": [
      "2025/06/24 18:23:29 INFO dspy.evaluate.evaluate: Average Metric: 22 / 35 (62.9%)\n",
      "2025/06/24 18:23:29 INFO dspy.teleprompt.mipro_optimizer_v2: Score: 62.86 on minibatch of size 35 with parameters ['Predictor 0: Instruction 1', 'Predictor 0: Few-Shot Set 1', 'Predictor 1: Instruction 1', 'Predictor 1: Few-Shot Set 1'].\n",
      "2025/06/24 18:23:29 INFO dspy.teleprompt.mipro_optimizer_v2: Minibatch scores so far: [31.43, 37.14, 57.14, 60.0, 54.29, 42.86, 65.71, 42.86, 51.43, 57.14, 60.0, 65.71, 60.0, 51.43, 62.86, 62.86]\n",
      "2025/06/24 18:23:29 INFO dspy.teleprompt.mipro_optimizer_v2: Full eval scores so far: [42.0, 59.0, 60.0, 60.0]\n",
      "2025/06/24 18:23:29 INFO dspy.teleprompt.mipro_optimizer_v2: Best full score so far: 60.0\n",
      "2025/06/24 18:23:29 INFO dspy.teleprompt.mipro_optimizer_v2: ==========================================\n",
      "\n",
      "\n",
      "2025/06/24 18:23:29 INFO dspy.teleprompt.mipro_optimizer_v2: == Trial 21 / 25 - Minibatch ==\n"
     ]
    },
    {
     "name": "stdout",
     "output_type": "stream",
     "text": [
      "\n",
      "Average Metric: 20.00 / 35 (57.1%): 100%|██████████| 35/35 [00:08<00:00,  4.18it/s]"
     ]
    },
    {
     "name": "stderr",
     "output_type": "stream",
     "text": [
      "2025/06/24 18:23:39 INFO dspy.evaluate.evaluate: Average Metric: 20 / 35 (57.1%)\n",
      "2025/06/24 18:23:39 INFO dspy.teleprompt.mipro_optimizer_v2: Score: 57.14 on minibatch of size 35 with parameters ['Predictor 0: Instruction 1', 'Predictor 0: Few-Shot Set 2', 'Predictor 1: Instruction 2', 'Predictor 1: Few-Shot Set 4'].\n",
      "2025/06/24 18:23:39 INFO dspy.teleprompt.mipro_optimizer_v2: Minibatch scores so far: [31.43, 37.14, 57.14, 60.0, 54.29, 42.86, 65.71, 42.86, 51.43, 57.14, 60.0, 65.71, 60.0, 51.43, 62.86, 62.86, 57.14]\n",
      "2025/06/24 18:23:39 INFO dspy.teleprompt.mipro_optimizer_v2: Full eval scores so far: [42.0, 59.0, 60.0, 60.0]\n",
      "2025/06/24 18:23:39 INFO dspy.teleprompt.mipro_optimizer_v2: Best full score so far: 60.0\n",
      "2025/06/24 18:23:39 INFO dspy.teleprompt.mipro_optimizer_v2: ==========================================\n",
      "\n",
      "\n",
      "2025/06/24 18:23:39 INFO dspy.teleprompt.mipro_optimizer_v2: == Trial 22 / 25 - Minibatch ==\n"
     ]
    },
    {
     "name": "stdout",
     "output_type": "stream",
     "text": [
      "\n",
      "Average Metric: 23.00 / 35 (65.7%): 100%|██████████| 35/35 [00:12<00:00,  2.89it/s]"
     ]
    },
    {
     "name": "stderr",
     "output_type": "stream",
     "text": [
      "2025/06/24 18:23:52 INFO dspy.evaluate.evaluate: Average Metric: 23 / 35 (65.7%)\n",
      "2025/06/24 18:23:53 INFO dspy.teleprompt.mipro_optimizer_v2: Score: 65.71 on minibatch of size 35 with parameters ['Predictor 0: Instruction 0', 'Predictor 0: Few-Shot Set 2', 'Predictor 1: Instruction 2', 'Predictor 1: Few-Shot Set 5'].\n",
      "2025/06/24 18:23:53 INFO dspy.teleprompt.mipro_optimizer_v2: Minibatch scores so far: [31.43, 37.14, 57.14, 60.0, 54.29, 42.86, 65.71, 42.86, 51.43, 57.14, 60.0, 65.71, 60.0, 51.43, 62.86, 62.86, 57.14, 65.71]\n",
      "2025/06/24 18:23:53 INFO dspy.teleprompt.mipro_optimizer_v2: Full eval scores so far: [42.0, 59.0, 60.0, 60.0]\n",
      "2025/06/24 18:23:53 INFO dspy.teleprompt.mipro_optimizer_v2: Best full score so far: 60.0\n",
      "2025/06/24 18:23:53 INFO dspy.teleprompt.mipro_optimizer_v2: ==========================================\n",
      "\n",
      "\n",
      "2025/06/24 18:23:53 INFO dspy.teleprompt.mipro_optimizer_v2: == Trial 23 / 25 - Minibatch ==\n"
     ]
    },
    {
     "name": "stdout",
     "output_type": "stream",
     "text": [
      "\n",
      "Average Metric: 18.00 / 35 (51.4%): 100%|██████████| 35/35 [00:08<00:00,  4.29it/s] "
     ]
    },
    {
     "name": "stderr",
     "output_type": "stream",
     "text": [
      "2025/06/24 18:24:02 INFO dspy.evaluate.evaluate: Average Metric: 18 / 35 (51.4%)\n",
      "2025/06/24 18:24:02 INFO dspy.teleprompt.mipro_optimizer_v2: Score: 51.43 on minibatch of size 35 with parameters ['Predictor 0: Instruction 0', 'Predictor 0: Few-Shot Set 2', 'Predictor 1: Instruction 2', 'Predictor 1: Few-Shot Set 5'].\n",
      "2025/06/24 18:24:02 INFO dspy.teleprompt.mipro_optimizer_v2: Minibatch scores so far: [31.43, 37.14, 57.14, 60.0, 54.29, 42.86, 65.71, 42.86, 51.43, 57.14, 60.0, 65.71, 60.0, 51.43, 62.86, 62.86, 57.14, 65.71, 51.43]\n",
      "2025/06/24 18:24:02 INFO dspy.teleprompt.mipro_optimizer_v2: Full eval scores so far: [42.0, 59.0, 60.0, 60.0]\n",
      "2025/06/24 18:24:02 INFO dspy.teleprompt.mipro_optimizer_v2: Best full score so far: 60.0\n",
      "2025/06/24 18:24:02 INFO dspy.teleprompt.mipro_optimizer_v2: ==========================================\n",
      "\n",
      "\n",
      "2025/06/24 18:24:02 INFO dspy.teleprompt.mipro_optimizer_v2: == Trial 24 / 25 - Minibatch ==\n"
     ]
    },
    {
     "name": "stdout",
     "output_type": "stream",
     "text": [
      "\n",
      "Average Metric: 24.00 / 35 (68.6%): 100%|██████████| 35/35 [00:00<00:00, 511.69it/s]"
     ]
    },
    {
     "name": "stderr",
     "output_type": "stream",
     "text": [
      "2025/06/24 18:24:05 INFO dspy.evaluate.evaluate: Average Metric: 24 / 35 (68.6%)\n"
     ]
    },
    {
     "name": "stdout",
     "output_type": "stream",
     "text": [
      "\n"
     ]
    },
    {
     "name": "stderr",
     "output_type": "stream",
     "text": [
      "2025/06/24 18:24:05 INFO dspy.teleprompt.mipro_optimizer_v2: Score: 68.57 on minibatch of size 35 with parameters ['Predictor 0: Instruction 1', 'Predictor 0: Few-Shot Set 2', 'Predictor 1: Instruction 2', 'Predictor 1: Few-Shot Set 1'].\n",
      "2025/06/24 18:24:05 INFO dspy.teleprompt.mipro_optimizer_v2: Minibatch scores so far: [31.43, 37.14, 57.14, 60.0, 54.29, 42.86, 65.71, 42.86, 51.43, 57.14, 60.0, 65.71, 60.0, 51.43, 62.86, 62.86, 57.14, 65.71, 51.43, 68.57]\n",
      "2025/06/24 18:24:05 INFO dspy.teleprompt.mipro_optimizer_v2: Full eval scores so far: [42.0, 59.0, 60.0, 60.0]\n",
      "2025/06/24 18:24:05 INFO dspy.teleprompt.mipro_optimizer_v2: Best full score so far: 60.0\n",
      "2025/06/24 18:24:05 INFO dspy.teleprompt.mipro_optimizer_v2: ==========================================\n",
      "\n",
      "\n",
      "2025/06/24 18:24:05 INFO dspy.teleprompt.mipro_optimizer_v2: ===== Trial 25 / 25 - Full Evaluation =====\n",
      "2025/06/24 18:24:05 INFO dspy.teleprompt.mipro_optimizer_v2: Doing full eval on next top averaging program (Avg Score: 62.86) from minibatch trials...\n"
     ]
    },
    {
     "name": "stdout",
     "output_type": "stream",
     "text": [
      "Average Metric: 62.00 / 100 (62.0%): 100%|██████████| 100/100 [01:06<00:00,  1.50it/s]"
     ]
    },
    {
     "name": "stderr",
     "output_type": "stream",
     "text": [
      "2025/06/24 18:25:13 INFO dspy.evaluate.evaluate: Average Metric: 62 / 100 (62.0%)\n",
      "2025/06/24 18:25:13 INFO dspy.teleprompt.mipro_optimizer_v2: \u001b[92mNew best full eval score!\u001b[0m Score: 62.0\n",
      "2025/06/24 18:25:13 INFO dspy.teleprompt.mipro_optimizer_v2: Full eval scores so far: [42.0, 59.0, 60.0, 60.0, 62.0]\n",
      "2025/06/24 18:25:13 INFO dspy.teleprompt.mipro_optimizer_v2: Best full score so far: 62.0\n",
      "2025/06/24 18:25:13 INFO dspy.teleprompt.mipro_optimizer_v2: =======================\n",
      "2025/06/24 18:25:13 INFO dspy.teleprompt.mipro_optimizer_v2: \n",
      "\n",
      "2025/06/24 18:25:13 INFO dspy.teleprompt.mipro_optimizer_v2: Returning best identified program with score 62.0!\n"
     ]
    },
    {
     "name": "stdout",
     "output_type": "stream",
     "text": [
      "\n"
     ]
    }
   ],
   "source": [
    "# Optimizing prompts for a ReAct agent\n",
    "import dspy\n",
    "from dspy.datasets import HotPotQA\n",
    "\n",
    "# dspy.configure(lm=dspy.LM('openai/gpt-4o-mini'))\n",
    "\n",
    "def search_wikipedia(query: str) -> list[str]:\n",
    "    results = dspy.ColBERTv2(url='http://20.102.90.50:2017/wiki17_abstracts')(query, k=3)\n",
    "    return [x['text'] for x in results]\n",
    "\n",
    "trainset = [x.with_inputs('question') for x in HotPotQA(train_seed=2024, train_size=500).train]\n",
    "react = dspy.ReAct(\"question -> answer\", tools=[search_wikipedia])\n",
    "\n",
    "tp = dspy.MIPROv2(metric=dspy.evaluate.answer_exact_match, auto=\"light\", num_threads=24)\n",
    "optimized_react = tp.compile(react, trainset=trainset, requires_permission_to_run=False)"
   ]
  },
  {
   "cell_type": "code",
   "execution_count": 16,
   "id": "f80b3df7",
   "metadata": {},
   "outputs": [
    {
     "data": {
      "text/plain": [
       "react = Predict(StringSignature(question, trajectory -> next_thought, next_tool_name, next_tool_args\n",
       "    instructions=\"You are an intelligent Agent tasked with answering user questions that may require external knowledge. Given the input fields `question` (the user's query) and `trajectory` (a history of your previous thoughts, tool calls, and observations), your goal is to generate the outputs: `next_thought` (a clear, step-by-step reasoning about the current state and your plan for the next action), `next_tool_name` (the name of the tool to use next, either 'search_wikipedia' or 'finish'), and `next_tool_args` (a dictionary in JSON format specifying the arguments for the selected tool).\\n\\nAvailable tools are:\\n(1) search_wikipedia: Use this to query Wikipedia for information. It requires a single argument: {'query': 'a string representing the search term'}.\\n(2) finish: Use this when you have gathered all necessary information to answer the question, marking the task as complete. It requires no arguments: {}.\\n\\nIn each turn, begin by writing `next_thought` to analyze the `question` and `trajectory`, reason logically about what information is missing, and decide on the next step. Then, select the appropriate `next_tool_name` and provide `next_tool_args` in valid JSON format. After a tool is executed, its observation will be added to the `trajectory` for your next iteration. Continue this process iteratively until you can confidently produce the final answer, at which point you should select 'finish'. Always ensure your reasoning is concise, accurate, and directly tied to the question, drawing from examples like verifying if certain entities are plants by searching Wikipedia step-by-step.\"\n",
       "    question = Field(annotation=str required=True json_schema_extra={'__dspy_field_type': 'input', 'prefix': 'Question:', 'desc': '${question}'})\n",
       "    trajectory = Field(annotation=str required=True json_schema_extra={'__dspy_field_type': 'input', 'prefix': 'Trajectory:', 'desc': '${trajectory}'})\n",
       "    next_thought = Field(annotation=str required=True json_schema_extra={'__dspy_field_type': 'output', 'prefix': 'Next Thought:', 'desc': '${next_thought}'})\n",
       "    next_tool_name = Field(annotation=Literal['search_wikipedia', 'finish'] required=True json_schema_extra={'__dspy_field_type': 'output', 'prefix': 'Next Tool Name:', 'desc': '${next_tool_name}'})\n",
       "    next_tool_args = Field(annotation=dict[str, Any] required=True json_schema_extra={'__dspy_field_type': 'output', 'prefix': 'Next Tool Args:', 'desc': '${next_tool_args}'})\n",
       "))\n",
       "extract.predict = Predict(StringSignature(question, trajectory -> reasoning, answer\n",
       "    instructions='You are an AI agent in a ReAct framework, responsible for synthesizing information from a user\\'s question and an accumulated trajectory of thoughts, tool interactions, and observations to produce a clear, step-by-step reasoning process and a final, precise answer. Given the fields `question` (which is a concise, natural language query on topics like biology, history, or pop culture) and `trajectory` (which includes a sequence of thoughts, tool names like \\'search_wikipedia\\', tool arguments in JSON format, and resulting observations from external sources), your task is to carefully analyze the trajectory to extract relevant facts, reason logically through the information gathered, and generate the fields `reasoning` and `answer`. \\n\\nStart your `reasoning` with the phrase \"Let\\'s think step by step in order to\" followed by a detailed, sequential breakdown: summarize key observations from the trajectory, connect them back to the original question, address any uncertainties or multiple steps involved, and ensure the explanation is coherent and evidence-based. Finally, provide the `answer` as a brief, direct, and accurate response that directly answers the question without extraneous details, drawing solely from the trajectory\\'s data. This process ensures the response is reliable, factually grounded, and suitable for trivia or information-retrieval tasks.'\n",
       "    question = Field(annotation=str required=True json_schema_extra={'__dspy_field_type': 'input', 'prefix': 'Question:', 'desc': '${question}'})\n",
       "    trajectory = Field(annotation=str required=True json_schema_extra={'__dspy_field_type': 'input', 'prefix': 'Trajectory:', 'desc': '${trajectory}'})\n",
       "    reasoning = Field(annotation=str required=True json_schema_extra={'prefix': \"Reasoning: Let's think step by step in order to\", 'desc': '${reasoning}', '__dspy_field_type': 'output'})\n",
       "    answer = Field(annotation=str required=True json_schema_extra={'__dspy_field_type': 'output', 'prefix': 'Answer:', 'desc': '${answer}'})\n",
       "))"
      ]
     },
     "execution_count": 16,
     "metadata": {},
     "output_type": "execute_result"
    }
   ],
   "source": [
    "optimized_react"
   ]
  },
  {
   "cell_type": "markdown",
   "id": "f98977d9",
   "metadata": {},
   "source": []
  }
 ],
 "metadata": {
  "kernelspec": {
   "display_name": "base",
   "language": "python",
   "name": "python3"
  },
  "language_info": {
   "codemirror_mode": {
    "name": "ipython",
    "version": 3
   },
   "file_extension": ".py",
   "mimetype": "text/x-python",
   "name": "python",
   "nbconvert_exporter": "python",
   "pygments_lexer": "ipython3",
   "version": "3.12.7"
  }
 },
 "nbformat": 4,
 "nbformat_minor": 5
}
