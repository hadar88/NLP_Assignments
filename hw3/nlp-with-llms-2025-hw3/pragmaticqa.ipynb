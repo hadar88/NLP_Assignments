{
 "cells": [
  {
   "cell_type": "markdown",
   "id": "2167ffa3",
   "metadata": {},
   "source": [
    "# Explore PragmatiCQA Dataset\n",
    "\n",
    "Load jsonl files from the PragmatiCQA dataset - explore data."
   ]
  },
  {
   "cell_type": "code",
   "execution_count": null,
   "id": "95633efd",
   "metadata": {},
   "outputs": [],
   "source": [
    "# Load jsonl from dataset directory\n",
    "import json\n",
    "import os  \n",
    "\n",
    "def read_data(filename, dataset_dir=\"../PragmatiCQA/data\"):\n",
    "    corpus = []\n",
    "    with open(os.path.join(dataset_dir, filename), 'r') as f:\n",
    "        for line in f:\n",
    "            corpus.append(json.loads(line))\n",
    "    return corpus\n",
    "\n",
    "pcqa_test = read_data(\"test.jsonl\")"
   ]
  },
  {
   "cell_type": "code",
   "execution_count": null,
   "id": "88bd2485",
   "metadata": {},
   "outputs": [],
   "source": [
    "print(f\"Loaded {len(pcqa_test)} documents from PragmatiCQA test set.\")"
   ]
  },
  {
   "cell_type": "code",
   "execution_count": null,
   "id": "9ff9c550",
   "metadata": {},
   "outputs": [],
   "source": [
    "# Pretty print the first document to check the structure\n",
    "import pprint   \n",
    "pprint.pprint(pcqa_test[0])  # Print the first document to check the structure"
   ]
  },
  {
   "cell_type": "code",
   "execution_count": null,
   "id": "26f6d6ed",
   "metadata": {},
   "outputs": [],
   "source": [
    "print(f\"Loaded {len(pcqa_test[0]['qas'])} questions from the first document.\")"
   ]
  },
  {
   "cell_type": "code",
   "execution_count": null,
   "id": "da3f1b77",
   "metadata": {},
   "outputs": [],
   "source": [
    "pprint.pprint(pcqa_test[0]['qas'][0])"
   ]
  },
  {
   "cell_type": "code",
   "execution_count": null,
   "id": "3c226e1d",
   "metadata": {},
   "outputs": [],
   "source": []
  }
 ],
 "metadata": {
  "kernelspec": {
   "display_name": "base",
   "language": "python",
   "name": "python3"
  },
  "language_info": {
   "codemirror_mode": {
    "name": "ipython",
    "version": 3
   },
   "file_extension": ".py",
   "mimetype": "text/x-python",
   "name": "python",
   "nbconvert_exporter": "python",
   "pygments_lexer": "ipython3",
   "version": "3.12.7"
  }
 },
 "nbformat": 4,
 "nbformat_minor": 5
}
