{
 "cells": [
  {
   "cell_type": "markdown",
   "id": "b2147b7b",
   "metadata": {},
   "source": [
    "# Embedding\n",
    "\n",
    "Demonstrate how to create a vector embedding representation of a collection of source documents.\n",
    "\n"
   ]
  },
  {
   "cell_type": "code",
   "execution_count": null,
   "id": "de8387ff",
   "metadata": {},
   "outputs": [],
   "source": [
    "import dspy\n",
    "from sentence_transformers import SentenceTransformer\n",
    "\n",
    "# Load an extremely efficient local model for retrieval\n",
    "model = SentenceTransformer(\"sentence-transformers/static-retrieval-mrl-en-v1\", device=\"cpu\")\n",
    "\n",
    "embedder = dspy.Embedder(model.encode)\n",
    "embeddings = embedder([\"hello\", \"world\"], batch_size=1)\n",
    "\n",
    "assert embeddings.shape == (2, 1024)"
   ]
  },
  {
   "cell_type": "code",
   "execution_count": null,
   "id": "1893cd06",
   "metadata": {},
   "outputs": [],
   "source": [
    "# Traverse a directory and read html files - extract text from the html files\n",
    "import os\n",
    "from bs4 import BeautifulSoup\n",
    "def read_html_files(directory):\n",
    "    texts = []\n",
    "    for filename in os.listdir(directory):\n",
    "        if filename.endswith(\".html\"):\n",
    "            with open(os.path.join(directory, filename), 'r', encoding='utf-8') as file:\n",
    "                soup = BeautifulSoup(file, 'html.parser')\n",
    "                texts.append(soup.get_text())\n",
    "    return texts\n"
   ]
  },
  {
   "cell_type": "code",
   "execution_count": null,
   "id": "3729d4a3",
   "metadata": {},
   "outputs": [],
   "source": [
    "zelda = read_html_files(\"../PragmatiCQA-sources/The Legend of Zelda\")\n",
    "\n",
    "print(len(zelda), \" documents loaded from The Legend of Zelda\")"
   ]
  },
  {
   "cell_type": "code",
   "execution_count": null,
   "id": "cf527307",
   "metadata": {},
   "outputs": [],
   "source": [
    "print(zelda[0][:10000])  # Print the first 10000 characters of the first document"
   ]
  },
  {
   "cell_type": "code",
   "execution_count": null,
   "id": "1a75dfbc",
   "metadata": {},
   "outputs": [],
   "source": [
    "max_characters = 10000  # for truncating >99th percentile of documents\n",
    "topk_docs_to_retrieve = 5  # number of documents to retrieve per search query\n",
    "\n",
    "corpus = read_html_files(\"../PragmatiCQA-sources/The Legend of Zelda\")\n",
    "print(f\"Loaded {len(corpus)} documents. Will encode them below.\")\n",
    "\n",
    "# embedder = dspy.Embedder('openai/text-embedding-3-small', dimensions=512)\n",
    "search = dspy.retrievers.Embeddings(embedder=embedder, corpus=corpus, k=topk_docs_to_retrieve)\n"
   ]
  },
  {
   "cell_type": "code",
   "execution_count": null,
   "id": "a4e3ed98",
   "metadata": {},
   "outputs": [],
   "source": [
    "search(\"What is the main quest in The Legend of Zelda?\")\n",
    "# This will return the top 5 documents related to the query about the main quest in The Legend of Zelda.\n",
    "# You can adjust the query to test different aspects of the corpus.\n"
   ]
  }
 ],
 "metadata": {
  "kernelspec": {
   "display_name": "base",
   "language": "python",
   "name": "python3"
  },
  "language_info": {
   "codemirror_mode": {
    "name": "ipython",
    "version": 3
   },
   "file_extension": ".py",
   "mimetype": "text/x-python",
   "name": "python",
   "nbconvert_exporter": "python",
   "pygments_lexer": "ipython3",
   "version": "3.12.7"
  }
 },
 "nbformat": 4,
 "nbformat_minor": 5
}
